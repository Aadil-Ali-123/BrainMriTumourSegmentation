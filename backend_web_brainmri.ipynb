{
  "cells": [
    {
      "cell_type": "code",
      "execution_count": null,
      "metadata": {
        "colab": {
          "base_uri": "https://localhost:8080/"
        },
        "id": "CekQkEJbHYny",
        "outputId": "6e9d9e70-f911-4463-ac57-f96510e0a66f"
      },
      "outputs": [
        {
          "output_type": "stream",
          "name": "stdout",
          "text": [
            "Mounted at /content/drive\n",
            "Requirement already satisfied: flask in /usr/local/lib/python3.11/dist-packages (3.1.1)\n",
            "Collecting pyngrok\n",
            "  Downloading pyngrok-7.3.0-py3-none-any.whl.metadata (8.1 kB)\n",
            "Requirement already satisfied: blinker>=1.9.0 in /usr/local/lib/python3.11/dist-packages (from flask) (1.9.0)\n",
            "Requirement already satisfied: click>=8.1.3 in /usr/local/lib/python3.11/dist-packages (from flask) (8.2.1)\n",
            "Requirement already satisfied: itsdangerous>=2.2.0 in /usr/local/lib/python3.11/dist-packages (from flask) (2.2.0)\n",
            "Requirement already satisfied: jinja2>=3.1.2 in /usr/local/lib/python3.11/dist-packages (from flask) (3.1.6)\n",
            "Requirement already satisfied: markupsafe>=2.1.1 in /usr/local/lib/python3.11/dist-packages (from flask) (3.0.2)\n",
            "Requirement already satisfied: werkzeug>=3.1.0 in /usr/local/lib/python3.11/dist-packages (from flask) (3.1.3)\n",
            "Requirement already satisfied: PyYAML>=5.1 in /usr/local/lib/python3.11/dist-packages (from pyngrok) (6.0.2)\n",
            "Downloading pyngrok-7.3.0-py3-none-any.whl (25 kB)\n",
            "Installing collected packages: pyngrok\n",
            "Successfully installed pyngrok-7.3.0\n"
          ]
        }
      ],
      "source": [
        "from google.colab import drive\n",
        "drive.mount('/content/drive')\n",
        "import shutil\n",
        "import os\n",
        "!pip install flask pyngrok\n",
        "from pyngrok import ngrok\n",
        "import cv2\n",
        "import numpy as np\n",
        "from flask import Flask, render_template, request\n",
        "from tensorflow.keras.models import model_from_json\n",
        "from skimage import io\n",
        "from tensorflow.keras import backend as K"
      ]
    },
    {
      "cell_type": "code",
      "execution_count": null,
      "metadata": {
        "colab": {
          "base_uri": "https://localhost:8080/",
          "height": 35
        },
        "id": "IS8PzHn9IZc6",
        "outputId": "c8a8ddb3-3146-4721-9a51-2d556f85a5dd"
      },
      "outputs": [
        {
          "output_type": "execute_result",
          "data": {
            "text/plain": [
              "'/content/brain_mri_web'"
            ],
            "application/vnd.google.colaboratory.intrinsic+json": {
              "type": "string"
            }
          },
          "metadata": {},
          "execution_count": 2
        }
      ],
      "source": [
        "shutil.copytree(\n",
        "    \"/content/drive/MyDrive/brain_mri_web\",  # web app folder in Drive\n",
        "    \"/content/brain_mri_web\",                # copy to Colab\n",
        "    dirs_exist_ok=True\n",
        ")"
      ]
    },
    {
      "cell_type": "code",
      "execution_count": null,
      "metadata": {
        "id": "ZSyOQv5lJEGQ"
      },
      "outputs": [],
      "source": [
        "os.chdir(\"/content/brain_mri_web\")"
      ]
    },
    {
      "cell_type": "code",
      "execution_count": null,
      "metadata": {
        "id": "bn2kW9QBJHfm",
        "colab": {
          "base_uri": "https://localhost:8080/"
        },
        "outputId": "025359a6-b981-407b-d4c3-698b0de5b30e"
      },
      "outputs": [
        {
          "output_type": "stream",
          "name": "stdout",
          "text": []
        }
      ],
      "source": [
        "ngrok.set_auth_token(\"30mMCecVM47rLHOjbN3x2g0KEDX_85h8BMg6hnYTSUfjBQZL\")"
      ]
    },
    {
      "cell_type": "code",
      "execution_count": null,
      "metadata": {
        "colab": {
          "base_uri": "https://localhost:8080/"
        },
        "id": "KV7m3OVJVtPm",
        "outputId": "c6347241-c60a-4389-ff0e-da002407483c"
      },
      "outputs": [
        {
          "output_type": "stream",
          "name": "stderr",
          "text": [
            "/usr/local/lib/python3.11/dist-packages/keras/src/saving/saving_lib.py:802: UserWarning: Skipping variable loading for optimizer 'rmsprop', because it has 108 variables whereas the saved optimizer has 214 variables. \n",
            "  saveable.load_own_variables(weights_store.get(inner_path))\n"
          ]
        },
        {
          "output_type": "stream",
          "name": "stdout",
          "text": [
            "ResUNet loaded successfully!\n",
            "DeepLabV3+ loaded successfully!\n"
          ]
        },
        {
          "output_type": "stream",
          "name": "stderr",
          "text": [
            "/usr/local/lib/python3.11/dist-packages/keras/src/saving/saving_lib.py:802: UserWarning: Skipping variable loading for optimizer 'rmsprop', because it has 185 variables whereas the saved optimizer has 368 variables. \n",
            "  saveable.load_own_variables(weights_store.get(inner_path))\n"
          ]
        }
      ],
      "source": [
        "# define the tversky and focal_tversky loss so keras can load the model\n",
        "def tversky(y_t, y_p, alpha=0.7, smooth=1e-6):\n",
        "    y_t = K.flatten(y_t)\n",
        "    y_p = K.flatten(y_p)\n",
        "    true_pos = K.sum(y_t * y_p)\n",
        "    false_neg = K.sum(y_t * (1 - y_p))\n",
        "    false_pos = K.sum((1 - y_t) * y_p)\n",
        "    return (true_pos + smooth) / (true_pos + alpha * false_neg + (1 - alpha) * false_pos + smooth)\n",
        "\n",
        "def focal_tversky(y_t, y_p, gamma=0.75):\n",
        "    pt = tversky(y_t, y_p)\n",
        "    return K.pow((1 - pt), gamma)\n",
        "\n",
        "custom_objects = {\"tversky\": tversky, \"focal_tversky\": focal_tversky}\n",
        "\n",
        "# load resUNet model\n",
        "with open(\"models/ResUNet_model.json\", \"r\") as json_file:\n",
        "    resunet_model = model_from_json(json_file.read(), custom_objects=custom_objects)\n",
        "resunet_model.load_weights(\"models/ResUNet_weights.weights.h5\")\n",
        "print(\"ResUNet loaded successfully!\")\n",
        "\n",
        "# load leeplab\n",
        "with open(\"models/DeepLabV3plus_model.json\", \"r\") as json_file:\n",
        "    deeplab_model = model_from_json(json_file.read(), custom_objects=custom_objects)\n",
        "deeplab_model.load_weights(\"models/DeepLabV3plus.weights.h5\")\n",
        "print(\"DeepLabV3+ loaded successfully!\")"
      ]
    },
    {
      "cell_type": "code",
      "execution_count": null,
      "metadata": {
        "colab": {
          "base_uri": "https://localhost:8080/"
        },
        "id": "G-9lqAuvWQ3G",
        "outputId": "1cba90b8-f4fc-41a9-fae3-fcb8947e88c4"
      },
      "outputs": [
        {
          "output_type": "stream",
          "name": "stdout",
          "text": [
            "Public URL: https://dafd673f8514.ngrok-free.app\n",
            " * Serving Flask app '__main__'\n",
            " * Debug mode: off\n"
          ]
        },
        {
          "output_type": "stream",
          "name": "stderr",
          "text": [
            "INFO:werkzeug:\u001b[31m\u001b[1mWARNING: This is a development server. Do not use it in a production deployment. Use a production WSGI server instead.\u001b[0m\n",
            " * Running on http://127.0.0.1:5000\n",
            "INFO:werkzeug:\u001b[33mPress CTRL+C to quit\u001b[0m\n",
            "INFO:werkzeug:127.0.0.1 - - [18/Aug/2025 22:35:10] \"GET / HTTP/1.1\" 200 -\n",
            "INFO:werkzeug:127.0.0.1 - - [18/Aug/2025 22:35:10] \"GET /static/css/style.css HTTP/1.1\" 200 -\n",
            "INFO:werkzeug:127.0.0.1 - - [18/Aug/2025 22:35:11] \"\u001b[33mGET /favicon.ico HTTP/1.1\u001b[0m\" 404 -\n"
          ]
        },
        {
          "output_type": "stream",
          "name": "stdout",
          "text": [
            "\u001b[1m1/1\u001b[0m \u001b[32m━━━━━━━━━━━━━━━━━━━━\u001b[0m\u001b[37m\u001b[0m \u001b[1m3s\u001b[0m 3s/step\n",
            "\u001b[1m1/1\u001b[0m \u001b[32m━━━━━━━━━━━━━━━━━━━━\u001b[0m\u001b[37m\u001b[0m \u001b[1m8s\u001b[0m 8s/step\n"
          ]
        },
        {
          "output_type": "stream",
          "name": "stderr",
          "text": [
            "INFO:werkzeug:127.0.0.1 - - [18/Aug/2025 22:35:29] \"POST / HTTP/1.1\" 200 -\n",
            "INFO:werkzeug:127.0.0.1 - - [18/Aug/2025 22:35:29] \"\u001b[36mGET /static/css/style.css HTTP/1.1\u001b[0m\" 304 -\n",
            "INFO:werkzeug:127.0.0.1 - - [18/Aug/2025 22:35:29] \"GET /static/results/resunet_original.png HTTP/1.1\" 200 -\n",
            "INFO:werkzeug:127.0.0.1 - - [18/Aug/2025 22:35:30] \"GET /static/results/resunet_mask.png HTTP/1.1\" 200 -\n",
            "INFO:werkzeug:127.0.0.1 - - [18/Aug/2025 22:35:30] \"GET /static/results/deeplab_original.png HTTP/1.1\" 200 -\n",
            "INFO:werkzeug:127.0.0.1 - - [18/Aug/2025 22:35:30] \"GET /static/results/deeplab_overlay.png HTTP/1.1\" 200 -\n",
            "INFO:werkzeug:127.0.0.1 - - [18/Aug/2025 22:35:30] \"GET /static/results/resunet_overlay.png HTTP/1.1\" 200 -\n",
            "INFO:werkzeug:127.0.0.1 - - [18/Aug/2025 22:35:30] \"GET /static/results/deeplab_mask.png HTTP/1.1\" 200 -\n"
          ]
        }
      ],
      "source": [
        "# flask app setup\n",
        "app = Flask(__name__)\n",
        "\n",
        "# uploads and results folders\n",
        "upfolder = 'static/uploads'\n",
        "resultsfolder = 'static/results'\n",
        "os.makedirs(upfolder, exist_ok=True)\n",
        "os.makedirs(resultsfolder, exist_ok=True)\n",
        "\n",
        "# prediction helper\n",
        "def predict_and_save(img_path, model, prefix):\n",
        "    # load mri\n",
        "    img = io.imread(img_path)\n",
        "    img_resized = cv2.resize(img, (256, 256))\n",
        "\n",
        "    # normalise\n",
        "    img_input = (img_resized - np.mean(img_resized)) / np.std(img_resized)\n",
        "    img_input = np.expand_dims(img_input, axis=0)\n",
        "\n",
        "    # predict mask\n",
        "    pred_mask = model.predict(img_input)[0].squeeze()\n",
        "    bin_mask = (pred_mask > 0.5).astype(np.uint8)  # binary mask\n",
        "\n",
        "    # save original image\n",
        "    orig_name = f\"{prefix}_original.png\"\n",
        "    cv2.imwrite(os.path.join(resultsfolder, orig_name),\n",
        "                cv2.cvtColor(img_resized, cv2.COLOR_RGB2BGR))\n",
        "\n",
        "    # save mask\n",
        "    mask_name = f\"{prefix}_mask.png\"\n",
        "    cv2.imwrite(os.path.join(resultsfolder, mask_name), bin_mask * 255)\n",
        "\n",
        "    # save overlay green tumor area\n",
        "    overlay = img_resized.copy()\n",
        "    overlay[bin_mask == 1] = [0, 255, 0]\n",
        "    overlay_name = f\"{prefix}_overlay.png\"\n",
        "    cv2.imwrite(os.path.join(resultsfolder, overlay_name),\n",
        "                cv2.cvtColor(overlay, cv2.COLOR_RGB2BGR))\n",
        "\n",
        "    return {\n",
        "        'original': orig_name,\n",
        "        'mask': mask_name,\n",
        "        'overlay': overlay_name\n",
        "    }\n",
        "\n",
        "# flask routes\n",
        "@app.route(\"/\", methods=[\"GET\", \"POST\"])\n",
        "def index():\n",
        "    if request.method == \"POST\":\n",
        "        file = request.files['file']\n",
        "        if file.filename == \"\":\n",
        "            return render_template(\"index.html\")\n",
        "\n",
        "        # save uploaded file\n",
        "        file_path = os.path.join(upfolder, file.filename)\n",
        "        file.save(file_path)\n",
        "\n",
        "        # predict using both models\n",
        "        resunet_results  = predict_and_save(file_path, resunet_model, \"resunet\")\n",
        "        deeplab_results  = predict_and_save(file_path, deeplab_model, \"deeplab\")\n",
        "\n",
        "        return render_template(\n",
        "            \"index.html\",\n",
        "            resunet_results=resunet_results,\n",
        "            deeplab_results=deeplab_results\n",
        "        )\n",
        "    return render_template(\"index.html\")\n",
        "\n",
        "# start ngrok and run app\n",
        "port = 5000\n",
        "public_url = ngrok.connect(port).public_url\n",
        "print(f\"Public URL: {public_url}\")\n",
        "app.run(port=port)"
      ]
    }
  ],
  "metadata": {
    "colab": {
      "provenance": []
    },
    "kernelspec": {
      "display_name": "Python 3",
      "name": "python3"
    },
    "language_info": {
      "name": "python"
    }
  },
  "nbformat": 4,
  "nbformat_minor": 0
}